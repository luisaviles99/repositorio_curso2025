{
 "cells": [
  {
   "cell_type": "markdown",
   "id": "a8349ac5",
   "metadata": {},
   "source": [
    "# Primera Funcion\n",
    "### Hola, Mundo"
   ]
  },
  {
   "cell_type": "code",
   "execution_count": 3,
   "id": "448f74f0",
   "metadata": {},
   "outputs": [],
   "source": [
    "def saludo():\n",
    "    print(\"Hola, mundo\")"
   ]
  },
  {
   "cell_type": "code",
   "execution_count": 4,
   "id": "35a8ee64",
   "metadata": {},
   "outputs": [
    {
     "name": "stdout",
     "output_type": "stream",
     "text": [
      "Hola, mundo\n"
     ]
    }
   ],
   "source": [
    "saludo()"
   ]
  },
  {
   "cell_type": "markdown",
   "id": "7334568d",
   "metadata": {},
   "source": [
    "### Función para **sumar**"
   ]
  },
  {
   "cell_type": "code",
   "execution_count": 5,
   "id": "de87a528",
   "metadata": {},
   "outputs": [],
   "source": [
    "def suma(a, b):\n",
    "    return a + b"
   ]
  },
  {
   "cell_type": "code",
   "execution_count": 6,
   "id": "9db1f8a6",
   "metadata": {},
   "outputs": [
    {
     "name": "stdout",
     "output_type": "stream",
     "text": [
      "8\n"
     ]
    }
   ],
   "source": [
    "resultado1 = suma(3,5)\n",
    "print(resultado1)"
   ]
  },
  {
   "cell_type": "markdown",
   "id": "78a761ff",
   "metadata": {},
   "source": [
    "### Función para **restar**"
   ]
  },
  {
   "cell_type": "code",
   "execution_count": 7,
   "id": "eb3562c0",
   "metadata": {},
   "outputs": [],
   "source": [
    "def resta(a, b):\n",
    "    return a - b"
   ]
  },
  {
   "cell_type": "code",
   "execution_count": 8,
   "id": "c0edae32",
   "metadata": {},
   "outputs": [
    {
     "name": "stdout",
     "output_type": "stream",
     "text": [
      "6\n"
     ]
    }
   ],
   "source": [
    "resultado2 = resta(15,9)\n",
    "print(resultado2)"
   ]
  },
  {
   "cell_type": "markdown",
   "id": "9fbabf0f",
   "metadata": {},
   "source": [
    "### Función para **multiplicar**"
   ]
  },
  {
   "cell_type": "code",
   "execution_count": 9,
   "id": "4bd7f2f5",
   "metadata": {},
   "outputs": [],
   "source": [
    "def multiplicar(a, b):\n",
    "    return a * b"
   ]
  },
  {
   "cell_type": "code",
   "execution_count": 10,
   "id": "2b7f838b",
   "metadata": {},
   "outputs": [
    {
     "name": "stdout",
     "output_type": "stream",
     "text": [
      "27\n"
     ]
    }
   ],
   "source": [
    "resultado3 = multiplicar(9,3)\n",
    "print(resultado3)"
   ]
  },
  {
   "cell_type": "markdown",
   "id": "60e362bb",
   "metadata": {},
   "source": [
    "### Función para **dividir**"
   ]
  },
  {
   "cell_type": "code",
   "execution_count": 11,
   "id": "0ce3d2b9",
   "metadata": {},
   "outputs": [],
   "source": [
    "def division(a, b):\n",
    "    return a / b"
   ]
  },
  {
   "cell_type": "code",
   "execution_count": 12,
   "id": "173df873",
   "metadata": {},
   "outputs": [
    {
     "name": "stdout",
     "output_type": "stream",
     "text": [
      "5.0\n"
     ]
    }
   ],
   "source": [
    "resultado4 = division(40, 8)\n",
    "print(resultado4)"
   ]
  },
  {
   "cell_type": "code",
   "execution_count": null,
   "id": "43dc4ac5",
   "metadata": {},
   "outputs": [],
   "source": []
  }
 ],
 "metadata": {
  "kernelspec": {
   "display_name": "base",
   "language": "python",
   "name": "python3"
  },
  "language_info": {
   "codemirror_mode": {
    "name": "ipython",
    "version": 3
   },
   "file_extension": ".py",
   "mimetype": "text/x-python",
   "name": "python",
   "nbconvert_exporter": "python",
   "pygments_lexer": "ipython3",
   "version": "3.13.5"
  }
 },
 "nbformat": 4,
 "nbformat_minor": 5
}
