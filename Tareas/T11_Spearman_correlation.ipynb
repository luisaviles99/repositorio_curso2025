{
 "cells": [
  {
   "cell_type": "markdown",
   "id": "1c9fae02",
   "metadata": {},
   "source": [
    "## Tarea 11\n",
    "## Correlación de spearman y correlación de pearson"
   ]
  },
  {
   "cell_type": "markdown",
   "id": "cde35cee",
   "metadata": {},
   "source": [
    "### Correlación de spearman\n",
    "cargar datos"
   ]
  },
  {
   "cell_type": "code",
   "execution_count": 1,
   "id": "252db309",
   "metadata": {},
   "outputs": [],
   "source": [
    "# Read in the data from the csv file\n",
    "\n",
    "import pandas as pd\n",
    "\n",
    "CO2Data = pd.read_csv(\"../data/Terminos_lagoon_TA_DIC_2023_RawData.csv\")"
   ]
  },
  {
   "cell_type": "code",
   "execution_count": 2,
   "id": "060001b5",
   "metadata": {},
   "outputs": [],
   "source": [
    "from scipy import stats\n",
    "\n",
    "def test_spearman(x, y, alpha=0.05):\n",
    "    if len(x) != len(y):\n",
    "        raise ValueError(\"Las variables deben tener la misma longitud.\")\n",
    "\n",
    "    rho, pval = stats.spearmanr(x, y)\n",
    "\n",
    "    print(f\"Spearman's correlation coefficient (rho): {rho:.3f}\")\n",
    "    print(f\"p-value: {pval:.4f}\")\n",
    "\n",
    "    if pval < alpha:\n",
    "        print(f\"✔️ Significant relationship (p < {alpha:.3f})\")\n",
    "    else:\n",
    "        print(f\"⚠️ No significant relationship (p ≥ {alpha:.3f})\")\n",
    "\n",
    "    if rho > 0:\n",
    "        print(\"📈 Positive correlation\")\n",
    "    else:\n",
    "        print(\"📉 Negative correlation\")"
   ]
  },
  {
   "cell_type": "markdown",
   "id": "c7448ee3",
   "metadata": {},
   "source": [
    "test function"
   ]
  },
  {
   "cell_type": "code",
   "execution_count": 3,
   "id": "0e4c4d2c",
   "metadata": {},
   "outputs": [
    {
     "name": "stdout",
     "output_type": "stream",
     "text": [
      "Spearman's correlation coefficient (rho): 0.838\n",
      "p-value: 0.0000\n",
      "✔️ Significant relationship (p < 0.050)\n",
      "📈 Positive correlation\n"
     ]
    }
   ],
   "source": [
    "test_spearman(CO2Data[\"ta_micromol_kg\"], CO2Data[\"dic_micromol_kg\"])"
   ]
  },
  {
   "cell_type": "code",
   "execution_count": 4,
   "id": "794746a6",
   "metadata": {},
   "outputs": [
    {
     "data": {
      "application/vnd.microsoft.datawrangler.viewer.v0+json": {
       "columns": [
        {
         "name": "index",
         "rawType": "int64",
         "type": "integer"
        },
        {
         "name": "sample",
         "rawType": "object",
         "type": "string"
        },
        {
         "name": "date",
         "rawType": "object",
         "type": "string"
        },
        {
         "name": "estuary",
         "rawType": "object",
         "type": "string"
        },
        {
         "name": "area",
         "rawType": "object",
         "type": "string"
        },
        {
         "name": "station",
         "rawType": "object",
         "type": "string"
        },
        {
         "name": "layer_depth",
         "rawType": "object",
         "type": "string"
        },
        {
         "name": "season",
         "rawType": "object",
         "type": "string"
        },
        {
         "name": "chlorophy_microg_l",
         "rawType": "float64",
         "type": "float"
        },
        {
         "name": "cond_microsiemens_cm",
         "rawType": "float64",
         "type": "float"
        },
        {
         "name": "depth_m",
         "rawType": "float64",
         "type": "float"
        },
        {
         "name": "do_percent_sat",
         "rawType": "float64",
         "type": "float"
        },
        {
         "name": "do_mg_l",
         "rawType": "float64",
         "type": "float"
        },
        {
         "name": "sal_psu",
         "rawType": "float64",
         "type": "float"
        },
        {
         "name": "sp_cond_microsiemens_cm",
         "rawType": "float64",
         "type": "float"
        },
        {
         "name": "turbidity_fnu",
         "rawType": "float64",
         "type": "float"
        },
        {
         "name": "temp_c",
         "rawType": "float64",
         "type": "float"
        },
        {
         "name": "latitude",
         "rawType": "float64",
         "type": "float"
        },
        {
         "name": "longitude",
         "rawType": "float64",
         "type": "float"
        },
        {
         "name": "dic_micromol_kg",
         "rawType": "int64",
         "type": "integer"
        },
        {
         "name": "ta_micromol_kg",
         "rawType": "int64",
         "type": "integer"
        },
        {
         "name": "dummy_data",
         "rawType": "float64",
         "type": "float"
        }
       ],
       "ref": "70251558-739a-4cd8-a5da-a15c6e56c631",
       "rows": [
        [
         "0",
         "CDL01S",
         "5/3/2020",
         "Candelaria",
         "River",
         "CDL01",
         "Surface",
         "Dry",
         "0.36",
         "7015.4",
         "0.464",
         "93.9",
         "7.12",
         "3.56",
         "6547.7",
         "1.47",
         "28.74",
         "18.55736",
         "-91.25012",
         "3915",
         "3863",
         "3685.0"
        ],
        [
         "1",
         "CDL01F",
         "5/3/2020",
         "Candelaria",
         "River",
         "CDL01",
         "Bottom",
         "Dry",
         "4.19",
         "29886.1",
         "7.792",
         "70.1",
         "4.9",
         "16.97",
         "27751.2",
         "95.33",
         "29.028",
         "18.55722",
         "-91.2499",
         "3698",
         "3685",
         null
        ],
        [
         "2",
         "CDL02S",
         "5/3/2020",
         "Candelaria",
         "River",
         "CDL02",
         "Surface",
         "Dry",
         "0.92",
         "16691.1",
         "0.453",
         "95.9",
         "6.99",
         "8.94",
         "15429.1",
         "5.5",
         "29.283",
         "18.61007",
         "-91.2441",
         "3724",
         "3708",
         "3708.0"
        ]
       ],
       "shape": {
        "columns": 21,
        "rows": 3
       }
      },
      "text/html": [
       "<div>\n",
       "<style scoped>\n",
       "    .dataframe tbody tr th:only-of-type {\n",
       "        vertical-align: middle;\n",
       "    }\n",
       "\n",
       "    .dataframe tbody tr th {\n",
       "        vertical-align: top;\n",
       "    }\n",
       "\n",
       "    .dataframe thead th {\n",
       "        text-align: right;\n",
       "    }\n",
       "</style>\n",
       "<table border=\"1\" class=\"dataframe\">\n",
       "  <thead>\n",
       "    <tr style=\"text-align: right;\">\n",
       "      <th></th>\n",
       "      <th>sample</th>\n",
       "      <th>date</th>\n",
       "      <th>estuary</th>\n",
       "      <th>area</th>\n",
       "      <th>station</th>\n",
       "      <th>layer_depth</th>\n",
       "      <th>season</th>\n",
       "      <th>chlorophy_microg_l</th>\n",
       "      <th>cond_microsiemens_cm</th>\n",
       "      <th>depth_m</th>\n",
       "      <th>...</th>\n",
       "      <th>do_mg_l</th>\n",
       "      <th>sal_psu</th>\n",
       "      <th>sp_cond_microsiemens_cm</th>\n",
       "      <th>turbidity_fnu</th>\n",
       "      <th>temp_c</th>\n",
       "      <th>latitude</th>\n",
       "      <th>longitude</th>\n",
       "      <th>dic_micromol_kg</th>\n",
       "      <th>ta_micromol_kg</th>\n",
       "      <th>dummy_data</th>\n",
       "    </tr>\n",
       "  </thead>\n",
       "  <tbody>\n",
       "    <tr>\n",
       "      <th>0</th>\n",
       "      <td>CDL01S</td>\n",
       "      <td>5/3/2020</td>\n",
       "      <td>Candelaria</td>\n",
       "      <td>River</td>\n",
       "      <td>CDL01</td>\n",
       "      <td>Surface</td>\n",
       "      <td>Dry</td>\n",
       "      <td>0.36</td>\n",
       "      <td>7015.4</td>\n",
       "      <td>0.464</td>\n",
       "      <td>...</td>\n",
       "      <td>7.12</td>\n",
       "      <td>3.56</td>\n",
       "      <td>6547.7</td>\n",
       "      <td>1.47</td>\n",
       "      <td>28.740</td>\n",
       "      <td>18.55736</td>\n",
       "      <td>-91.25012</td>\n",
       "      <td>3915</td>\n",
       "      <td>3863</td>\n",
       "      <td>3685.0</td>\n",
       "    </tr>\n",
       "    <tr>\n",
       "      <th>1</th>\n",
       "      <td>CDL01F</td>\n",
       "      <td>5/3/2020</td>\n",
       "      <td>Candelaria</td>\n",
       "      <td>River</td>\n",
       "      <td>CDL01</td>\n",
       "      <td>Bottom</td>\n",
       "      <td>Dry</td>\n",
       "      <td>4.19</td>\n",
       "      <td>29886.1</td>\n",
       "      <td>7.792</td>\n",
       "      <td>...</td>\n",
       "      <td>4.90</td>\n",
       "      <td>16.97</td>\n",
       "      <td>27751.2</td>\n",
       "      <td>95.33</td>\n",
       "      <td>29.028</td>\n",
       "      <td>18.55722</td>\n",
       "      <td>-91.24990</td>\n",
       "      <td>3698</td>\n",
       "      <td>3685</td>\n",
       "      <td>NaN</td>\n",
       "    </tr>\n",
       "    <tr>\n",
       "      <th>2</th>\n",
       "      <td>CDL02S</td>\n",
       "      <td>5/3/2020</td>\n",
       "      <td>Candelaria</td>\n",
       "      <td>River</td>\n",
       "      <td>CDL02</td>\n",
       "      <td>Surface</td>\n",
       "      <td>Dry</td>\n",
       "      <td>0.92</td>\n",
       "      <td>16691.1</td>\n",
       "      <td>0.453</td>\n",
       "      <td>...</td>\n",
       "      <td>6.99</td>\n",
       "      <td>8.94</td>\n",
       "      <td>15429.1</td>\n",
       "      <td>5.50</td>\n",
       "      <td>29.283</td>\n",
       "      <td>18.61007</td>\n",
       "      <td>-91.24410</td>\n",
       "      <td>3724</td>\n",
       "      <td>3708</td>\n",
       "      <td>3708.0</td>\n",
       "    </tr>\n",
       "  </tbody>\n",
       "</table>\n",
       "<p>3 rows × 21 columns</p>\n",
       "</div>"
      ],
      "text/plain": [
       "   sample      date     estuary   area station layer_depth season  \\\n",
       "0  CDL01S  5/3/2020  Candelaria  River   CDL01     Surface    Dry   \n",
       "1  CDL01F  5/3/2020  Candelaria  River   CDL01      Bottom    Dry   \n",
       "2  CDL02S  5/3/2020  Candelaria  River   CDL02     Surface    Dry   \n",
       "\n",
       "   chlorophy_microg_l  cond_microsiemens_cm  depth_m  ...  do_mg_l  sal_psu  \\\n",
       "0                0.36                7015.4    0.464  ...     7.12     3.56   \n",
       "1                4.19               29886.1    7.792  ...     4.90    16.97   \n",
       "2                0.92               16691.1    0.453  ...     6.99     8.94   \n",
       "\n",
       "   sp_cond_microsiemens_cm  turbidity_fnu  temp_c  latitude  longitude  \\\n",
       "0                   6547.7           1.47  28.740  18.55736  -91.25012   \n",
       "1                  27751.2          95.33  29.028  18.55722  -91.24990   \n",
       "2                  15429.1           5.50  29.283  18.61007  -91.24410   \n",
       "\n",
       "   dic_micromol_kg  ta_micromol_kg  dummy_data  \n",
       "0             3915            3863      3685.0  \n",
       "1             3698            3685         NaN  \n",
       "2             3724            3708      3708.0  \n",
       "\n",
       "[3 rows x 21 columns]"
      ]
     },
     "execution_count": 4,
     "metadata": {},
     "output_type": "execute_result"
    }
   ],
   "source": [
    "CO2Data.head(3)"
   ]
  },
  {
   "cell_type": "code",
   "execution_count": 5,
   "id": "8c60c621",
   "metadata": {},
   "outputs": [
    {
     "name": "stdout",
     "output_type": "stream",
     "text": [
      "Spearman's correlation coefficient (rho): -0.377\n",
      "p-value: 0.0001\n",
      "✔️ Significant relationship (p < 0.050)\n",
      "📉 Negative correlation\n"
     ]
    }
   ],
   "source": [
    "test_spearman(CO2Data[\"temp_c\"], CO2Data[\"sal_psu\"])"
   ]
  },
  {
   "cell_type": "markdown",
   "id": "f4787888",
   "metadata": {},
   "source": [
    "### Pearson correlation"
   ]
  },
  {
   "cell_type": "code",
   "execution_count": 6,
   "id": "6d8ae8af",
   "metadata": {},
   "outputs": [],
   "source": [
    "from scipy import stats\n",
    "\n",
    "def test_pearson(x, y, alpha=0.05):\n",
    "    if len(x) != len(y):\n",
    "        raise ValueError(\"Las variables deben tener la misma longitud.\")\n",
    "\n",
    "    coef, pval = stats.pearsonr(x, y)\n",
    "\n",
    "    print(f\"Pearson's correlation coefficient: {coef:.3f}\")\n",
    "    print(f\"p-value: {pval:.4f}\")\n",
    "\n",
    "    if pval < alpha:\n",
    "        print(f\"✔️ Significant relationship (p < {alpha:.3f})\")\n",
    "    else:\n",
    "        print(f\"⚠️ No significant relationship (p ≥ {alpha:.3f})\")\n",
    "\n",
    "    if coef > 0:\n",
    "        print(\"📈 Positive correlation\")\n",
    "    elif coef < 0:\n",
    "        print(\"📉 Negative correlation\")\n",
    "    else:\n",
    "        print(\"➖ No correlation\")"
   ]
  },
  {
   "cell_type": "markdown",
   "id": "5a41c227",
   "metadata": {},
   "source": [
    "test function"
   ]
  },
  {
   "cell_type": "code",
   "execution_count": 7,
   "id": "b762d85e",
   "metadata": {},
   "outputs": [
    {
     "name": "stdout",
     "output_type": "stream",
     "text": [
      "Pearson's correlation coefficient: 0.882\n",
      "p-value: 0.0000\n",
      "✔️ Significant relationship (p < 0.050)\n",
      "📈 Positive correlation\n"
     ]
    }
   ],
   "source": [
    "test_pearson(CO2Data[\"ta_micromol_kg\"], CO2Data[\"dic_micromol_kg\"])"
   ]
  },
  {
   "cell_type": "code",
   "execution_count": 9,
   "id": "7edc2f02",
   "metadata": {},
   "outputs": [
    {
     "name": "stdout",
     "output_type": "stream",
     "text": [
      "Pearson's correlation coefficient: -0.421\n",
      "p-value: 0.0000\n",
      "✔️ Significant relationship (p < 0.050)\n",
      "📉 Negative correlation\n"
     ]
    }
   ],
   "source": [
    "test_pearson(CO2Data[\"temp_c\"], CO2Data[\"sal_psu\"])"
   ]
  },
  {
   "cell_type": "code",
   "execution_count": 11,
   "id": "f44416b4",
   "metadata": {},
   "outputs": [
    {
     "name": "stdout",
     "output_type": "stream",
     "text": [
      "Pearson's correlation coefficient: 0.155\n",
      "p-value: 0.1124\n",
      "⚠️ No significant relationship (p ≥ 0.050)\n",
      "📈 Positive correlation\n"
     ]
    }
   ],
   "source": [
    "test_pearson(CO2Data[\"sal_psu\"], CO2Data[\"turbidity_fnu\"])"
   ]
  },
  {
   "cell_type": "code",
   "execution_count": null,
   "id": "e61e7055",
   "metadata": {},
   "outputs": [],
   "source": []
  }
 ],
 "metadata": {
  "kernelspec": {
   "display_name": "base",
   "language": "python",
   "name": "python3"
  },
  "language_info": {
   "codemirror_mode": {
    "name": "ipython",
    "version": 3
   },
   "file_extension": ".py",
   "mimetype": "text/x-python",
   "name": "python",
   "nbconvert_exporter": "python",
   "pygments_lexer": "ipython3",
   "version": "3.13.5"
  }
 },
 "nbformat": 4,
 "nbformat_minor": 5
}
