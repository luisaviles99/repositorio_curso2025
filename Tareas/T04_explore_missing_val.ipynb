{
 "cells": [
  {
   "cell_type": "markdown",
   "id": "db7b0200",
   "metadata": {},
   "source": [
    "# Tarea 4\n",
    "## Exercise 3 Dataframe exploration\n",
    "## Import csv file to dataframe using pandas"
   ]
  },
  {
   "cell_type": "code",
   "execution_count": 3,
   "id": "1a55d665",
   "metadata": {},
   "outputs": [],
   "source": [
    "def import_csv(file):\n",
    "    # Read the file into a DataFrame: df\n",
    "    import pandas as pd\n",
    "    return pd.read_csv(file)"
   ]
  },
  {
   "cell_type": "markdown",
   "id": "63d03558",
   "metadata": {},
   "source": [
    "set path and import file"
   ]
  },
  {
   "cell_type": "code",
   "execution_count": 4,
   "id": "633954b2",
   "metadata": {},
   "outputs": [],
   "source": [
    "path = \"../data/Terminos_lagoon_TA_DIC_2023_RawData.csv\"\n",
    "\n",
    "# Import the file\n",
    "terminos_df = import_csv(path)"
   ]
  },
  {
   "cell_type": "markdown",
   "id": "d5a05321",
   "metadata": {},
   "source": [
    "## Explore dataframe"
   ]
  },
  {
   "cell_type": "markdown",
   "id": "44cefec4",
   "metadata": {},
   "source": [
    "explore column names"
   ]
  },
  {
   "cell_type": "code",
   "execution_count": 5,
   "id": "fddb7080",
   "metadata": {},
   "outputs": [
    {
     "name": "stdout",
     "output_type": "stream",
     "text": [
      "Index(['sample', 'date', 'estuary', 'area', 'station', 'layer_depth', 'season',\n",
      "       'chlorophy_microg_l', 'cond_microsiemens_cm', 'depth_m',\n",
      "       'do_percent_sat', 'do_mg_l', 'sal_psu', 'sp_cond_microsiemens_cm',\n",
      "       'turbidity_fnu', 'temp_c', 'latitude', 'longitude', 'dic_micromol_kg',\n",
      "       'ta_micromol_kg', 'dummy_data'],\n",
      "      dtype='object')\n"
     ]
    }
   ],
   "source": [
    "print(terminos_df.columns)"
   ]
  },
  {
   "cell_type": "markdown",
   "id": "3c8c2eb2",
   "metadata": {},
   "source": [
    "Head - explore first 7 rows"
   ]
  },
  {
   "cell_type": "code",
   "execution_count": 6,
   "id": "d2972ba7",
   "metadata": {},
   "outputs": [
    {
     "name": "stdout",
     "output_type": "stream",
     "text": [
      "   sample      date     estuary   area station layer_depth season  \\\n",
      "0  CDL01S  5/3/2020  Candelaria  River   CDL01     Surface    Dry   \n",
      "1  CDL01F  5/3/2020  Candelaria  River   CDL01      Bottom    Dry   \n",
      "2  CDL02S  5/3/2020  Candelaria  River   CDL02     Surface    Dry   \n",
      "3  CDL02F  5/3/2020  Candelaria  River   CDL02      Bottom    Dry   \n",
      "4  CDL03S  5/3/2020  Candelaria  River   CDL03     Surface    Dry   \n",
      "5  CDL03F  5/3/2020  Candelaria  River   CDL03      Bottom    Dry   \n",
      "6  CDL04S  5/3/2020  Candelaria  Plume   CDL04     Surface    Dry   \n",
      "\n",
      "   chlorophy_microg_l  cond_microsiemens_cm  depth_m  ...  do_mg_l  sal_psu  \\\n",
      "0                0.36                7015.4    0.464  ...     7.12     3.56   \n",
      "1                4.19               29886.1    7.792  ...     4.90    16.97   \n",
      "2                0.92               16691.1    0.453  ...     6.99     8.94   \n",
      "3                2.23               24847.4    1.261  ...     6.52    13.87   \n",
      "4                0.58               46341.6    0.465  ...     6.24    28.06   \n",
      "5               22.49               39453.4    1.867  ...     0.12    24.01   \n",
      "6                0.98               51682.3    0.474  ...     6.85    32.46   \n",
      "\n",
      "   sp_cond_microsiemens_cm  turbidity_fnu  temp_c  latitude  longitude  \\\n",
      "0                   6547.7           1.47  28.740  18.55736  -91.25012   \n",
      "1                  27751.2          95.33  29.028  18.55722  -91.24990   \n",
      "2                  15429.1           5.50  29.283  18.61007  -91.24410   \n",
      "3                  23074.0          13.44  29.024  18.61005  -91.24403   \n",
      "4                  43670.8           3.60  28.202  18.63166  -91.29359   \n",
      "5                  37919.1         108.11  27.118  18.63163  -91.29297   \n",
      "6                  49690.8           3.34  27.098  18.67964  -91.34973   \n",
      "\n",
      "   dic_micromol_kg  ta_micromol_kg  dummy_data  \n",
      "0             3915            3863      3685.0  \n",
      "1             3698            3685         NaN  \n",
      "2             3724            3708      3708.0  \n",
      "3             3667            3992      3992.0  \n",
      "4             2928            3023      3023.0  \n",
      "5             2752            2849      2849.0  \n",
      "6             2672            2828      2828.0  \n",
      "\n",
      "[7 rows x 21 columns]\n"
     ]
    }
   ],
   "source": [
    "print(terminos_df.head(7))"
   ]
  },
  {
   "cell_type": "markdown",
   "id": "9e737b55",
   "metadata": {},
   "source": [
    "Shape - Dataframe dimmensions (rows, columns)"
   ]
  },
  {
   "cell_type": "code",
   "execution_count": 7,
   "id": "0232396d",
   "metadata": {},
   "outputs": [
    {
     "name": "stdout",
     "output_type": "stream",
     "text": [
      "(106, 21)\n"
     ]
    }
   ],
   "source": [
    "print(terminos_df.shape)"
   ]
  },
  {
   "cell_type": "markdown",
   "id": "37c038b9",
   "metadata": {},
   "source": [
    "Info - Explore dataframe information"
   ]
  },
  {
   "cell_type": "code",
   "execution_count": 8,
   "id": "522ace52",
   "metadata": {},
   "outputs": [
    {
     "name": "stdout",
     "output_type": "stream",
     "text": [
      "<bound method DataFrame.info of      sample       date     estuary   area station layer_depth season  \\\n",
      "0    CDL01S   5/3/2020  Candelaria  River   CDL01     Surface    Dry   \n",
      "1    CDL01F   5/3/2020  Candelaria  River   CDL01      Bottom    Dry   \n",
      "2    CDL02S   5/3/2020  Candelaria  River   CDL02     Surface    Dry   \n",
      "3    CDL02F   5/3/2020  Candelaria  River   CDL02      Bottom    Dry   \n",
      "4    CDL03S   5/3/2020  Candelaria  River   CDL03     Surface    Dry   \n",
      "..      ...        ...         ...    ...     ...         ...    ...   \n",
      "101  PLZ07F  10/2/2021    Palizada  Coast   PLZ07      Bottom    Dry   \n",
      "102  PLZ08S  10/2/2021    Palizada  Coast   PLZ08     Surface    Dry   \n",
      "103  PLZ08F  10/2/2021    Palizada  Coast   PLZ08      Bottom    Dry   \n",
      "104  PLZ09S  10/2/2021    Palizada  Coast   PLZ09     Surface    Dry   \n",
      "105  PLZ09F  10/2/2021    Palizada  Coast   PLZ09      Bottom    Dry   \n",
      "\n",
      "     chlorophy_microg_l  cond_microsiemens_cm  depth_m  ...  do_mg_l  sal_psu  \\\n",
      "0                  0.36                7015.4    0.464  ...     7.12     3.56   \n",
      "1                  4.19               29886.1    7.792  ...     4.90    16.97   \n",
      "2                  0.92               16691.1    0.453  ...     6.99     8.94   \n",
      "3                  2.23               24847.4    1.261  ...     6.52    13.87   \n",
      "4                  0.58               46341.6    0.465  ...     6.24    28.06   \n",
      "..                  ...                   ...      ...  ...      ...      ...   \n",
      "101                8.37               36889.2    2.829  ...     7.92    22.81   \n",
      "102                2.73               37133.6    0.363  ...     8.39    22.57   \n",
      "103                9.27               39340.8    5.185  ...     7.89    24.53   \n",
      "104                3.71               37034.5    0.384  ...     8.62    22.57   \n",
      "105               17.81               43416.8    4.069  ...     5.06    27.52   \n",
      "\n",
      "     sp_cond_microsiemens_cm  turbidity_fnu  temp_c  latitude  longitude  \\\n",
      "0                     6547.7           1.47  28.740  18.55736  -91.25012   \n",
      "1                    27751.2          95.33  29.028  18.55722  -91.24990   \n",
      "2                    15429.1           5.50  29.283  18.61007  -91.24410   \n",
      "3                    23074.0          13.44  29.024  18.61005  -91.24403   \n",
      "4                    43670.8           3.60  28.202  18.63166  -91.29359   \n",
      "..                       ...            ...     ...       ...        ...   \n",
      "101                  36170.8          56.65  26.040  18.58745  -91.83044   \n",
      "102                  35851.5           5.90  26.872  18.64028  -91.86907   \n",
      "103                  38622.9         173.00  25.973  18.63984  -91.86890   \n",
      "104                  35851.9           9.18  26.727  18.66676  -91.90047   \n",
      "105                  42833.8         890.51  25.713  18.66452  -91.90119   \n",
      "\n",
      "     dic_micromol_kg  ta_micromol_kg  dummy_data  \n",
      "0               3915            3863      3685.0  \n",
      "1               3698            3685         NaN  \n",
      "2               3724            3708      3708.0  \n",
      "3               3667            3992      3992.0  \n",
      "4               2928            3023      3023.0  \n",
      "..               ...             ...         ...  \n",
      "101             2715            2851      2851.0  \n",
      "102             2638            2837      2837.0  \n",
      "103             2608            2857      2857.0  \n",
      "104             2605            2804      2804.0  \n",
      "105             2542            2780      2780.0  \n",
      "\n",
      "[106 rows x 21 columns]>\n"
     ]
    }
   ],
   "source": [
    "print(terminos_df.info)"
   ]
  },
  {
   "cell_type": "markdown",
   "id": "7036e02a",
   "metadata": {},
   "source": [
    "Describe - basic statistics of dataframe"
   ]
  },
  {
   "cell_type": "code",
   "execution_count": 9,
   "id": "bf76f28c",
   "metadata": {},
   "outputs": [
    {
     "name": "stdout",
     "output_type": "stream",
     "text": [
      "       chlorophy_microg_l  cond_microsiemens_cm     depth_m  do_percent_sat  \\\n",
      "count          106.000000            106.000000  106.000000      106.000000   \n",
      "mean             6.545472          27895.183962    1.830160       89.515094   \n",
      "std             14.941262          20931.232513    2.038739       29.772291   \n",
      "min              0.360000             13.800000    0.105000        1.700000   \n",
      "25%              2.555000           1778.025000    0.428750       84.575000   \n",
      "50%              3.705000          33202.600000    0.638500       97.100000   \n",
      "75%              5.925000          47046.650000    2.883250      105.300000   \n",
      "max            150.900000          59988.600000    8.558000      174.100000   \n",
      "\n",
      "          do_mg_l     sal_psu  sp_cond_microsiemens_cm  turbidity_fnu  \\\n",
      "count  106.000000  106.000000               106.000000     106.000000   \n",
      "mean     6.474340   17.331981             27126.980189     100.429623   \n",
      "std      2.104254   13.578980             20527.530804     290.290113   \n",
      "min      0.120000    0.000000                13.700000       0.880000   \n",
      "25%      5.632500    0.857500              1706.875000       5.950000   \n",
      "50%      6.940000   19.760000             31803.250000      19.090000   \n",
      "75%      7.722500   30.297500             46668.975000      54.762500   \n",
      "max     11.660000   38.780000             58105.000000    2422.930000   \n",
      "\n",
      "           temp_c    latitude   longitude  dic_micromol_kg  ta_micromol_kg  \\\n",
      "count  106.000000  106.000000  106.000000       106.000000      106.000000   \n",
      "mean    26.758755   18.615912  -91.602783      2797.981132     2912.915094   \n",
      "std      0.917242    0.112832    0.240359       499.852416      472.694346   \n",
      "min     24.470000   18.424030  -91.902180      2152.000000     2357.000000   \n",
      "25%     26.062000   18.535825  -91.809810      2452.250000     2585.500000   \n",
      "50%     26.806000   18.610050  -91.786895      2646.500000     2823.000000   \n",
      "75%     27.153250   18.698798  -91.367565      2963.250000     3053.750000   \n",
      "max     29.283000   18.821780  -91.244000      4324.000000     4307.000000   \n",
      "\n",
      "        dummy_data  \n",
      "count    99.000000  \n",
      "mean   2902.888889  \n",
      "std     473.698989  \n",
      "min    2357.000000  \n",
      "25%    2561.500000  \n",
      "50%    2814.000000  \n",
      "75%    3029.000000  \n",
      "max    4307.000000  \n"
     ]
    }
   ],
   "source": [
    "print(terminos_df.describe())"
   ]
  },
  {
   "cell_type": "markdown",
   "id": "8ad36888",
   "metadata": {},
   "source": [
    "Extract variables individually as objects"
   ]
  },
  {
   "cell_type": "code",
   "execution_count": 10,
   "id": "8bcf3e41",
   "metadata": {},
   "outputs": [],
   "source": [
    "ta = terminos_df['ta_micromol_kg']\n",
    "#total alcalinity"
   ]
  },
  {
   "cell_type": "code",
   "execution_count": 11,
   "id": "210165d6",
   "metadata": {},
   "outputs": [],
   "source": [
    "dic = terminos_df['dic_micromol_kg']\n",
    "#dissolved inorganic carbon"
   ]
  },
  {
   "cell_type": "markdown",
   "id": "48202b13",
   "metadata": {},
   "source": [
    "plot of single variable"
   ]
  },
  {
   "cell_type": "code",
   "execution_count": 12,
   "id": "ea80bef1",
   "metadata": {},
   "outputs": [
    {
     "data": {
      "text/plain": [
       "<Axes: >"
      ]
     },
     "execution_count": 12,
     "metadata": {},
     "output_type": "execute_result"
    },
    {
     "data": {
      "image/png": "[encoded data removed]",
      "text/plain": [
       "<Figure size 640x480 with 1 Axes>"
      ]
     },
     "metadata": {},
     "output_type": "display_data"
    }
   ],
   "source": [
    "dic.plot()"
   ]
  },
  {
   "cell_type": "code",
   "execution_count": 13,
   "id": "ac701f64",
   "metadata": {},
   "outputs": [
    {
     "data": {
      "text/plain": [
       "np.float64(2797.9811320754716)"
      ]
     },
     "execution_count": 13,
     "metadata": {},
     "output_type": "execute_result"
    }
   ],
   "source": [
    "dic.mean()"
   ]
  },
  {
   "cell_type": "markdown",
   "id": "8bb155b6",
   "metadata": {},
   "source": [
    "Extract two variables as object"
   ]
  },
  {
   "cell_type": "code",
   "execution_count": 14,
   "id": "02b9a8a6",
   "metadata": {},
   "outputs": [],
   "source": [
    "dic_ta_data = terminos_df[['dic_micromol_kg', 'ta_micromol_kg']]"
   ]
  },
  {
   "cell_type": "markdown",
   "id": "b0ee3ebd",
   "metadata": {},
   "source": [
    "Plot two variables object"
   ]
  },
  {
   "cell_type": "code",
   "execution_count": 15,
   "id": "6ef916db",
   "metadata": {},
   "outputs": [
    {
     "data": {
      "text/plain": [
       "<Axes: >"
      ]
     },
     "execution_count": 15,
     "metadata": {},
     "output_type": "execute_result"
    },
    {
     "data": {
      "image/png": "[encoded data removed]",
      "text/plain": [
       "<Figure size 640x480 with 1 Axes>"
      ]
     },
     "metadata": {},
     "output_type": "display_data"
    }
   ],
   "source": [
    "dic_ta_data.plot()"
   ]
  },
  {
   "cell_type": "markdown",
   "id": "fdd489f8",
   "metadata": {},
   "source": [
    "extract data as subset (depending of certain variable level)"
   ]
  },
  {
   "cell_type": "code",
   "execution_count": 16,
   "id": "4c679bc2",
   "metadata": {},
   "outputs": [],
   "source": [
    "terminos_rainy = terminos_df[terminos_df['season'] == 'Rainy']"
   ]
  },
  {
   "cell_type": "markdown",
   "id": "e6e3e25a",
   "metadata": {},
   "source": [
    "extract data as restrictive subset"
   ]
  },
  {
   "cell_type": "code",
   "execution_count": 17,
   "id": "f7e1af9c",
   "metadata": {},
   "outputs": [],
   "source": [
    "terminos_non_candelaria = terminos_df[terminos_df['estuary'] != 'Candelaria']"
   ]
  },
  {
   "cell_type": "markdown",
   "id": "6646a0a2",
   "metadata": {},
   "source": [
    "extract data based on variable range"
   ]
  },
  {
   "cell_type": "code",
   "execution_count": 18,
   "id": "03f60024",
   "metadata": {},
   "outputs": [],
   "source": [
    "terminos_surf_g = terminos_df[terminos_df['depth_m'] <= 0.5]\n",
    "#not greater than 0.5 m\n",
    "terminos_surf_l = terminos_df[terminos_df['depth_m'] >= 0.5]\n",
    "#not lesser than 0.5 m"
   ]
  },
  {
   "cell_type": "markdown",
   "id": "e70c8bb6",
   "metadata": {},
   "source": [
    "Group data by categorical column and estimate mean and standar deviation of numercial variable"
   ]
  },
  {
   "cell_type": "code",
   "execution_count": null,
   "id": "b461d97a",
   "metadata": {},
   "outputs": [],
   "source": [
    "# set variables columns\n",
    "variables = ['dic_micromol_kg', 'ta_micromol_kg', 'sal_psu']\n",
    "\n",
    "# set results\n",
    "result = terminos_df.groupby(['season', 'estuary'])[variables].agg(['mean', 'std']).reset_index()"
   ]
  },
  {
   "cell_type": "code",
   "execution_count": 23,
   "id": "18f72bd6",
   "metadata": {},
   "outputs": [
    {
     "name": "stdout",
     "output_type": "stream",
     "text": [
      "  season     estuary dic_micromol_kg             ta_micromol_kg              \\\n",
      "                                mean         std           mean         std   \n",
      "0    Dry  Candelaria     2917.055556  630.585893    3076.777778  556.680114   \n",
      "1    Dry    Palizada     2968.194444  391.242257    3107.888889  323.177154   \n",
      "2  Rainy  Candelaria     2474.125000  306.407980    2537.062500  192.848635   \n",
      "3  Rainy    Palizada     2507.277778  216.751092    2529.333333  260.962923   \n",
      "\n",
      "     sal_psu             \n",
      "        mean        std  \n",
      "0  23.633889  12.121592  \n",
      "1  16.392500  13.830189  \n",
      "2  15.165000  13.937384  \n",
      "3   8.533333   9.940109  \n"
     ]
    }
   ],
   "source": [
    "# show results\n",
    "print(result.head())"
   ]
  },
  {
   "cell_type": "markdown",
   "id": "e89bff7d",
   "metadata": {},
   "source": [
    "Build mean +- sd table"
   ]
  },
  {
   "cell_type": "code",
   "execution_count": 25,
   "id": "28e2ed48",
   "metadata": {},
   "outputs": [],
   "source": [
    "#set libraries\n",
    "import pandas as pd\n",
    "from tabulate import tabulate"
   ]
  },
  {
   "cell_type": "markdown",
   "id": "a7c4a5a1",
   "metadata": {},
   "source": []
  },
  {
   "cell_type": "code",
   "execution_count": 26,
   "id": "edbfadb4",
   "metadata": {},
   "outputs": [],
   "source": [
    "#set column names\n",
    "result.columns = ['season', 'estuary'] + [f\"{var}_{stat}\" for var in variables for stat in ['mean', 'std']]\n",
    "\n",
    "#reset values to show mean +- sd \n",
    "for var in variables:\n",
    "    mean_col = f\"{var}_mean\"\n",
    "    std_col = f\"{var}_std\"\n",
    "    result[f\"{var}_formatted\"] = result.apply(lambda row: f\"{row[mean_col]:.2f} ± {row[std_col]:.2f}\", axis=1)"
   ]
  },
  {
   "cell_type": "markdown",
   "id": "9cba9283",
   "metadata": {},
   "source": []
  },
  {
   "cell_type": "code",
   "execution_count": 33,
   "id": "7b835466",
   "metadata": {},
   "outputs": [
    {
     "name": "stdout",
     "output_type": "stream",
     "text": [
      "| season   | estuary    | dic_micromol_kg_formatted   | ta_micromol_kg_formatted   | sal_psu_formatted   |\n",
      "|:---------|:-----------|:----------------------------|:---------------------------|:--------------------|\n",
      "| Dry      | Candelaria | 2917.06 ± 630.59            | 3076.78 ± 556.68           | 23.63 ± 12.12       |\n",
      "| Dry      | Palizada   | 2968.19 ± 391.24            | 3107.89 ± 323.18           | 16.39 ± 13.83       |\n",
      "| Rainy    | Candelaria | 2474.12 ± 306.41            | 2537.06 ± 192.85           | 15.16 ± 13.94       |\n",
      "| Rainy    | Palizada   | 2507.28 ± 216.75            | 2529.33 ± 260.96           | 8.53 ± 9.94         |\n"
     ]
    }
   ],
   "source": [
    "#select formatted columns and index\n",
    "formatted_result = result[['season', 'estuary'] + [f\"{var}_formatted\" for var in variables]]\n",
    "\n",
    "# show table with results\n",
    "table = tabulate(formatted_result, headers='keys', tablefmt='pipe', showindex=False)\n",
    "print(table)"
   ]
  },
  {
   "cell_type": "markdown",
   "id": "976502b2",
   "metadata": {},
   "source": [
    "## Exercise 4 Missing values"
   ]
  },
  {
   "cell_type": "markdown",
   "id": "2f126e88",
   "metadata": {},
   "source": [
    "Identify missing values"
   ]
  },
  {
   "cell_type": "code",
   "execution_count": 29,
   "id": "e660646d",
   "metadata": {},
   "outputs": [
    {
     "name": "stdout",
     "output_type": "stream",
     "text": [
      "sample                     0\n",
      "date                       0\n",
      "estuary                    0\n",
      "area                       0\n",
      "station                    0\n",
      "layer_depth                0\n",
      "season                     0\n",
      "chlorophy_microg_l         0\n",
      "cond_microsiemens_cm       0\n",
      "depth_m                    0\n",
      "do_percent_sat             0\n",
      "do_mg_l                    0\n",
      "sal_psu                    0\n",
      "sp_cond_microsiemens_cm    0\n",
      "turbidity_fnu              0\n",
      "temp_c                     0\n",
      "latitude                   0\n",
      "longitude                  0\n",
      "dic_micromol_kg            0\n",
      "ta_micromol_kg             0\n",
      "dummy_data                 7\n",
      "dtype: int64\n"
     ]
    }
   ],
   "source": [
    "print(terminos_df.isnull().sum())"
   ]
  },
  {
   "cell_type": "markdown",
   "id": "7b96672d",
   "metadata": {},
   "source": [
    "Fill missing values "
   ]
  },
  {
   "cell_type": "code",
   "execution_count": 31,
   "id": "6ec11c37",
   "metadata": {},
   "outputs": [
    {
     "name": "stdout",
     "output_type": "stream",
     "text": [
      "sample                     0\n",
      "date                       0\n",
      "estuary                    0\n",
      "area                       0\n",
      "station                    0\n",
      "layer_depth                0\n",
      "season                     0\n",
      "chlorophy_microg_l         0\n",
      "cond_microsiemens_cm       0\n",
      "depth_m                    0\n",
      "do_percent_sat             0\n",
      "do_mg_l                    0\n",
      "sal_psu                    0\n",
      "sp_cond_microsiemens_cm    0\n",
      "turbidity_fnu              0\n",
      "temp_c                     0\n",
      "latitude                   0\n",
      "longitude                  0\n",
      "dic_micromol_kg            0\n",
      "ta_micromol_kg             0\n",
      "dummy_data                 0\n",
      "dtype: int64\n"
     ]
    },
    {
     "name": "stderr",
     "output_type": "stream",
     "text": [
      "C:\\Users\\Luis Aviles\\AppData\\Local\\Temp\\ipykernel_14536\\1958876420.py:5: FutureWarning: DataFrame.fillna with 'method' is deprecated and will raise in a future version. Use obj.ffill() or obj.bfill() instead.\n",
      "  terminos_fill = terminos_fill.fillna(method='ffill')\n"
     ]
    }
   ],
   "source": [
    "# create alternative dataframe \n",
    "terminos_fill = terminos_df.copy()\n",
    "\n",
    "#fill missing values \n",
    "terminos_fill = terminos_fill.fillna(method='ffill')"
   ]
  },
  {
   "cell_type": "code",
   "execution_count": 32,
   "id": "2dd3ded6",
   "metadata": {},
   "outputs": [
    {
     "name": "stdout",
     "output_type": "stream",
     "text": [
      "sample                     0\n",
      "date                       0\n",
      "estuary                    0\n",
      "area                       0\n",
      "station                    0\n",
      "layer_depth                0\n",
      "season                     0\n",
      "chlorophy_microg_l         0\n",
      "cond_microsiemens_cm       0\n",
      "depth_m                    0\n",
      "do_percent_sat             0\n",
      "do_mg_l                    0\n",
      "sal_psu                    0\n",
      "sp_cond_microsiemens_cm    0\n",
      "turbidity_fnu              0\n",
      "temp_c                     0\n",
      "latitude                   0\n",
      "longitude                  0\n",
      "dic_micromol_kg            0\n",
      "ta_micromol_kg             0\n",
      "dummy_data                 0\n",
      "dtype: int64\n"
     ]
    }
   ],
   "source": [
    "#Veriffy the fill \n",
    "print(terminos_fill.isnull().sum())"
   ]
  },
  {
   "cell_type": "markdown",
   "id": "0ada8013",
   "metadata": {},
   "source": [
    "## EXCERCISE \n",
    "    - Create a new column called \"TA_DIC_ratio\" that is the ratio of TA to DIC\n",
    "    - Calculate the mean and standard deviation of the \"TA_DIC_ratio\" for each season\n",
    "    - Calculate the mean and standard deviation of the \"TA_DIC_ratio\" for each season and area\n",
    "    - Save the results to an Excel file called \"TA_DIC_Season_Areas.xlsx\""
   ]
  },
  {
   "cell_type": "markdown",
   "id": "721ab52f",
   "metadata": {},
   "source": [
    "new column ratio ta / dic"
   ]
  },
  {
   "cell_type": "code",
   "execution_count": 34,
   "id": "9edbba1e",
   "metadata": {},
   "outputs": [],
   "source": [
    "terminos_fill[\"ta_dic_ratio\"] = terminos_fill[\"ta_micromol_kg\"] / terminos_fill[\"dic_micromol_kg\"]"
   ]
  },
  {
   "cell_type": "markdown",
   "id": "d2ce61f7",
   "metadata": {},
   "source": [
    "Calculate mean and sd ta_dic_ratio for each season"
   ]
  },
  {
   "cell_type": "code",
   "execution_count": 35,
   "id": "e20cc44b",
   "metadata": {},
   "outputs": [],
   "source": [
    "# set variables columns\n",
    "variables1 = ['ta_dic_ratio']\n",
    "\n",
    "# set results\n",
    "result1 = terminos_fill.groupby(['season'])[variables1].agg(['mean', 'std']).reset_index()"
   ]
  },
  {
   "cell_type": "code",
   "execution_count": 36,
   "id": "3d519376",
   "metadata": {},
   "outputs": [],
   "source": [
    "#set column names\n",
    "result1.columns = ['season'] + [f\"{var}_{stat}\" for var in variables1 for stat in ['mean', 'std']]\n",
    "\n",
    "#reset values to show mean +- sd \n",
    "for var in variables1:\n",
    "    mean_col = f\"{var}_mean\"\n",
    "    std_col = f\"{var}_std\"\n",
    "    result1[f\"{var}_formatted\"] = result1.apply(lambda row: f\"{row[mean_col]:.2f} ± {row[std_col]:.2f}\", axis=1)"
   ]
  },
  {
   "cell_type": "code",
   "execution_count": 38,
   "id": "5076a8b8",
   "metadata": {},
   "outputs": [
    {
     "name": "stdout",
     "output_type": "stream",
     "text": [
      "| season   | ta_dic_ratio_formatted   |\n",
      "|:---------|:-------------------------|\n",
      "| Dry      | 1.06 ± 0.09              |\n",
      "| Rainy    | 1.02 ± 0.10              |\n"
     ]
    }
   ],
   "source": [
    "#select formatted columns and index\n",
    "formatted_result1 = result1[['season'] + [f\"{var}_formatted\" for var in variables1]]\n",
    "\n",
    "# show table with results\n",
    "table1 = tabulate(formatted_result1, headers='keys', tablefmt='pipe', showindex=False)\n",
    "print(table1)"
   ]
  },
  {
   "cell_type": "markdown",
   "id": "355fd435",
   "metadata": {},
   "source": [
    "Calculate mean and sd ta_dic_ratio for each season and area"
   ]
  },
  {
   "cell_type": "code",
   "execution_count": 39,
   "id": "574c212d",
   "metadata": {},
   "outputs": [],
   "source": [
    "# set variables columns\n",
    "variables1 = ['ta_dic_ratio']\n",
    "\n",
    "# set results\n",
    "result2 = terminos_fill.groupby(['season', 'area'])[variables1].agg(['mean', 'std']).reset_index()"
   ]
  },
  {
   "cell_type": "code",
   "execution_count": 40,
   "id": "54d53e85",
   "metadata": {},
   "outputs": [],
   "source": [
    "#set column names\n",
    "result2.columns = ['season', 'area'] + [f\"{var}_{stat}\" for var in variables1 for stat in ['mean', 'std']]\n",
    "\n",
    "#reset values to show mean +- sd \n",
    "for var in variables1:\n",
    "    mean_col = f\"{var}_mean\"\n",
    "    std_col = f\"{var}_std\"\n",
    "    result2[f\"{var}_formatted\"] = result2.apply(lambda row: f\"{row[mean_col]:.2f} ± {row[std_col]:.2f}\", axis=1)"
   ]
  },
  {
   "cell_type": "code",
   "execution_count": 41,
   "id": "a8c3cde1",
   "metadata": {},
   "outputs": [
    {
     "name": "stdout",
     "output_type": "stream",
     "text": [
      "| season   | area   | ta_dic_ratio_formatted   |\n",
      "|:---------|:-------|:-------------------------|\n",
      "| Dry      | Coast  | 1.12 ± 0.12              |\n",
      "| Dry      | Plume  | 1.06 ± 0.04              |\n",
      "| Dry      | River  | 1.00 ± 0.04              |\n",
      "| Rainy    | Coast  | 1.09 ± 0.13              |\n",
      "| Rainy    | Plume  | 1.03 ± 0.05              |\n",
      "| Rainy    | River  | 0.95 ± 0.03              |\n"
     ]
    }
   ],
   "source": [
    "#select formatted columns and index\n",
    "formatted_result2 = result2[['season', 'area'] + [f\"{var}_formatted\" for var in variables1]]\n",
    "\n",
    "# show table with results\n",
    "table2 = tabulate(formatted_result2, headers='keys', tablefmt='pipe', showindex=False)\n",
    "print(table2)"
   ]
  },
  {
   "cell_type": "markdown",
   "id": "e9d87b33",
   "metadata": {},
   "source": [
    "Transform to dataframe and save as xlsx file"
   ]
  },
  {
   "cell_type": "code",
   "execution_count": 46,
   "id": "0ebffb57",
   "metadata": {},
   "outputs": [
    {
     "name": "stdout",
     "output_type": "stream",
     "text": [
      "<class 'pandas.core.frame.DataFrame'>\n"
     ]
    }
   ],
   "source": [
    "#verify if dataframe\n",
    "print(type(result2))"
   ]
  },
  {
   "cell_type": "code",
   "execution_count": null,
   "id": "82415386",
   "metadata": {},
   "outputs": [],
   "source": [
    "from tabulate import tabulate\n",
    "import pandas as pd\n",
    "\n",
    "# save as xlsx\n",
    "result2.to_excel(\"terminos_TA_DIC_stats.xlsx\")"
   ]
  }
 ],
 "metadata": {
  "kernelspec": {
   "display_name": "base",
   "language": "python",
   "name": "python3"
  },
  "language_info": {
   "codemirror_mode": {
    "name": "ipython",
    "version": 3
   },
   "file_extension": ".py",
   "mimetype": "text/x-python",
   "name": "python",
   "nbconvert_exporter": "python",
   "pygments_lexer": "ipython3",
   "version": "3.13.5"
  }
 },
 "nbformat": 4,
 "nbformat_minor": 5
}
