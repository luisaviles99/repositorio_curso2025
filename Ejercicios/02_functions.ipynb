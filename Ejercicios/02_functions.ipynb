{
 "cells": [
  {
   "cell_type": "markdown",
   "id": "a5586066",
   "metadata": {},
   "source": [
    "# Ejercicio 2\n",
    "### Funciones"
   ]
  },
  {
   "cell_type": "markdown",
   "id": "c94032f2",
   "metadata": {},
   "source": [
    "#### Crear una función para calcular el valor absoluto"
   ]
  },
  {
   "cell_type": "code",
   "execution_count": 2,
   "id": "1912914d",
   "metadata": {},
   "outputs": [],
   "source": [
    "def absolute(x):\n",
    "    return abs(x)"
   ]
  },
  {
   "cell_type": "code",
   "execution_count": 3,
   "id": "826b53ab",
   "metadata": {},
   "outputs": [
    {
     "name": "stdout",
     "output_type": "stream",
     "text": [
      "20\n"
     ]
    }
   ],
   "source": [
    "resultado1=absolute(-20)\n",
    "print(resultado1)"
   ]
  },
  {
   "cell_type": "markdown",
   "id": "ac74913b",
   "metadata": {},
   "source": []
  }
 ],
 "metadata": {
  "kernelspec": {
   "display_name": "base",
   "language": "python",
   "name": "python3"
  },
  "language_info": {
   "codemirror_mode": {
    "name": "ipython",
    "version": 3
   },
   "file_extension": ".py",
   "mimetype": "text/x-python",
   "name": "python",
   "nbconvert_exporter": "python",
   "pygments_lexer": "ipython3",
   "version": "3.13.5"
  }
 },
 "nbformat": 4,
 "nbformat_minor": 5
}
