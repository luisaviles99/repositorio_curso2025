{
 "cells": [
  {
   "cell_type": "markdown",
   "id": "a5586066",
   "metadata": {},
   "source": [
    "# Ejercicio 2\n",
    "### Funciones"
   ]
  },
  {
   "cell_type": "markdown",
   "id": "c94032f2",
   "metadata": {},
   "source": [
    "#### Crear una función para calcular el valor absoluto"
   ]
  },
  {
   "cell_type": "code",
   "execution_count": 2,
   "id": "1912914d",
   "metadata": {},
   "outputs": [],
   "source": [
    "def absolute(x):\n",
    "    return abs(x)"
   ]
  },
  {
   "cell_type": "code",
   "execution_count": 3,
   "id": "826b53ab",
   "metadata": {},
   "outputs": [
    {
     "name": "stdout",
     "output_type": "stream",
     "text": [
      "20\n"
     ]
    }
   ],
   "source": [
    "resultado1=absolute(-20)\n",
    "print(resultado1)"
   ]
  },
  {
   "cell_type": "markdown",
   "id": "9d93d216",
   "metadata": {},
   "source": [
    "### Crear función compuesta \n",
    "### Indice Shannon"
   ]
  },
  {
   "cell_type": "markdown",
   "id": "eb33ccad",
   "metadata": {},
   "source": [
    "Total de especies"
   ]
  },
  {
   "cell_type": "code",
   "execution_count": 13,
   "id": "64cf9143",
   "metadata": {},
   "outputs": [],
   "source": [
    "def tot_sp(ind_por_sp):\n",
    "    return sum(ind_por_sp)"
   ]
  },
  {
   "cell_type": "markdown",
   "id": "4cab1cce",
   "metadata": {},
   "source": [
    "Calcular proporciones, ingresar numero de especies en \"n\""
   ]
  },
  {
   "cell_type": "code",
   "execution_count": 21,
   "id": "8888276e",
   "metadata": {},
   "outputs": [],
   "source": [
    "def pi(ind_por_sp, n):\n",
    "   total = tot_sp(ind_por_sp) \n",
    "   return [n/total for i in ind_por_sp]"
   ]
  },
  {
   "cell_type": "markdown",
   "id": "06b8dd07",
   "metadata": {},
   "source": [
    "Indice shannon"
   ]
  },
  {
   "cell_type": "code",
   "execution_count": 22,
   "id": "f6cd08f1",
   "metadata": {},
   "outputs": [],
   "source": [
    "import math\n",
    "def shannon(ind_por_sp, n):\n",
    "    proporciones = pi(ind_por_sp, n)\n",
    "    return -sum(p * math.log(p) for p in proporciones if p > 0)"
   ]
  },
  {
   "cell_type": "code",
   "execution_count": 23,
   "id": "09e0a405",
   "metadata": {},
   "outputs": [
    {
     "name": "stdout",
     "output_type": "stream",
     "text": [
      "0.43962417528052966\n"
     ]
    }
   ],
   "source": [
    "ind_por_sp = [23, 27, 12]\n",
    "n=3\n",
    "resultado2 = shannon(ind_por_sp, n)\n",
    "print(resultado2)"
   ]
  },
  {
   "cell_type": "markdown",
   "id": "0ced9786",
   "metadata": {},
   "source": []
  }
 ],
 "metadata": {
  "kernelspec": {
   "display_name": "base",
   "language": "python",
   "name": "python3"
  },
  "language_info": {
   "codemirror_mode": {
    "name": "ipython",
    "version": 3
   },
   "file_extension": ".py",
   "mimetype": "text/x-python",
   "name": "python",
   "nbconvert_exporter": "python",
   "pygments_lexer": "ipython3",
   "version": "3.13.5"
  }
 },
 "nbformat": 4,
 "nbformat_minor": 5
}
